{
 "cells": [
  {
   "cell_type": "code",
   "execution_count": 2,
   "metadata": {},
   "outputs": [
    {
     "data": {
      "text/plain": [
       "(           ds                               id_user  ds_checkin ds_checkout  \\\n",
       " 0  2014-10-01  0000af0a-6f26-4233-9832-27efbfb36148  2014-10-09  2014-10-12   \n",
       " 1  2014-10-01  0000af0a-6f26-4233-9832-27efbfb36148  2014-10-09  2014-10-19   \n",
       " 2  2014-10-01  000cd9d3-e05b-4016-9e09-34a6f8ba2fc5         NaN         NaN   \n",
       " 3  2014-10-01  000cd9d3-e05b-4016-9e09-34a6f8ba2fc5  2014-11-08  2014-11-10   \n",
       " 4  2014-10-01  001c04f0-5a94-4ee0-bf5d-3591265256de         NaN         NaN   \n",
       " \n",
       "    n_searches  n_nights  n_guests_min  n_guests_max origin_country  \\\n",
       " 0          16       3.0             2             2             IE   \n",
       " 1           3      10.0             1             2             IE   \n",
       " 2           1       NaN             1             1             GB   \n",
       " 3          11       2.0             1             2             GB   \n",
       " 4           1       NaN             1             1             IE   \n",
       " \n",
       "    filter_price_min  filter_price_max  \\\n",
       " 0               0.0              67.0   \n",
       " 1               0.0              67.0   \n",
       " 2               NaN               NaN   \n",
       " 3               NaN               NaN   \n",
       " 4               NaN               NaN   \n",
       " \n",
       "                                    filter_room_types filter_neighborhoods  \n",
       " 0  ,Entire home/apt,Entire home/apt,Private room,...                  NaN  \n",
       " 1                                                NaN                  NaN  \n",
       " 2                                                NaN                  NaN  \n",
       " 3                                   ,Entire home/apt                  NaN  \n",
       " 4                                                NaN                  NaN  ,\n",
       " ds                       object\n",
       " id_user                  object\n",
       " ds_checkin               object\n",
       " ds_checkout              object\n",
       " n_searches                int64\n",
       " n_nights                float64\n",
       " n_guests_min              int64\n",
       " n_guests_max              int64\n",
       " origin_country           object\n",
       " filter_price_min        float64\n",
       " filter_price_max        float64\n",
       " filter_room_types        object\n",
       " filter_neighborhoods     object\n",
       " dtype: object)"
      ]
     },
     "execution_count": 2,
     "metadata": {},
     "output_type": "execute_result"
    }
   ],
   "source": [
    "import pandas as pd\n",
    "\n",
    "searches_file_path = './data/searches.tsv'\n",
    "searches_data = pd.read_csv(searches_file_path, sep='\\t')\n",
    "\n",
    "searches_data.head(), searches_data.dtypes"
   ]
  },
  {
   "cell_type": "code",
   "execution_count": 3,
   "metadata": {},
   "outputs": [
    {
     "name": "stdout",
     "output_type": "stream",
     "text": [
      "                                id_user                      ds  n_searches  \\\n",
      "0  0000af0a-6f26-4233-9832-27efbfb36148  2014-10-05, 2014-10-01    9.666667   \n",
      "1  00058bcf-8950-4481-a977-d08b42d1fce5              2014-10-14    8.000000   \n",
      "2  000ab7fb-dbac-414f-9080-88f265e2243e              2014-10-13    1.000000   \n",
      "3  000b7ff7-47ea-48d3-9b09-1edd150acb02              2014-10-02    1.000000   \n",
      "4  000c5621-b577-465d-be91-75254d75cc68              2014-10-14   12.500000   \n",
      "\n",
      "    n_nights  n_guests_min  n_guests_max origin_country  filter_price_min  \\\n",
      "0   5.333333      1.666667           2.0             IE               0.0   \n",
      "1        NaN      1.000000           1.0             DE               0.0   \n",
      "2   2.000000      2.000000           2.0             US               NaN   \n",
      "3        NaN      1.000000           1.0             FR               NaN   \n",
      "4  19.000000      1.500000           1.5             RU               0.0   \n",
      "\n",
      "   filter_price_max                                  filter_room_types  \\\n",
      "0         79.333333  ,Entire home/apt,Entire home/apt,Private room,...   \n",
      "1         70.000000                                   ,Entire home/apt   \n",
      "2               NaN                                    Entire home/apt   \n",
      "3               NaN                                                      \n",
      "4         74.000000                                                      \n",
      "\n",
      "  filter_neighborhoods  \n",
      "0                       \n",
      "1                       \n",
      "2                       \n",
      "3                       \n",
      "4                       \n"
     ]
    }
   ],
   "source": [
    "def mean_agg(series):\n",
    "    return series.mean()\n",
    "\n",
    "def set_agg(series):\n",
    "    result = set(series.dropna().unique())\n",
    "    return ', '.join(result) if result else ''\n",
    "\n",
    "aggregation_rules = {\n",
    "    'ds': set_agg,\n",
    "    'n_searches': mean_agg,\n",
    "    'n_nights': mean_agg,\n",
    "    'n_guests_min': mean_agg,\n",
    "    'n_guests_max': mean_agg,\n",
    "    'origin_country': set_agg,\n",
    "    'filter_price_min': mean_agg,\n",
    "    'filter_price_max': mean_agg,\n",
    "    'filter_room_types': set_agg,\n",
    "    'filter_neighborhoods': set_agg\n",
    "}\n",
    "\n",
    "# group by id_user and apply rules\n",
    "grouped_searches = searches_data.groupby('id_user').agg(aggregation_rules)\n",
    "\n",
    "# reset the index if needed and check output\n",
    "grouped_searches.reset_index(inplace=True)\n",
    "print(grouped_searches.head())\n"
   ]
  },
  {
   "cell_type": "code",
   "execution_count": 4,
   "metadata": {},
   "outputs": [],
   "source": [
    "# save data\n",
    "grouped_searches.to_csv('aggregated_searches.csv', index=False)"
   ]
  }
 ],
 "metadata": {
  "kernelspec": {
   "display_name": "GreanTeam",
   "language": "python",
   "name": "python3"
  },
  "language_info": {
   "codemirror_mode": {
    "name": "ipython",
    "version": 3
   },
   "file_extension": ".py",
   "mimetype": "text/x-python",
   "name": "python",
   "nbconvert_exporter": "python",
   "pygments_lexer": "ipython3",
   "version": "3.12.2"
  }
 },
 "nbformat": 4,
 "nbformat_minor": 2
}
