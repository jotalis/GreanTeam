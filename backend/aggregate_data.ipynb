{
 "cells": [
  {
   "cell_type": "code",
   "execution_count": null,
   "metadata": {},
   "outputs": [],
   "source": [
    "import pandas as pd\n",
    "\n",
    "# Load both datasets\n",
    "searches_data = pd.read_csv('./data/searches.tsv', sep='\\t')\n",
    "contacts_data = pd.read_csv('./data/contacts.tsv', sep='\\t')\n",
    "\n",
    "# Define the aggregation functions for searches data\n",
    "def mean_agg(series):\n",
    "    return series.mean()\n",
    "\n",
    "def set_agg(series):\n",
    "    result = set(series.dropna().unique())\n",
    "    return ', '.join(result) if result else ''\n",
    "\n",
    "# Aggregation rules for searches data\n",
    "aggregation_rules = {\n",
    "    'n_searches': mean_agg,\n",
    "    'n_nights': mean_agg,\n",
    "    'n_guests_min': mean_agg,\n",
    "    'n_guests_max': mean_agg,\n",
    "    'origin_country': set_agg,\n",
    "    'filter_price_min': mean_agg,\n",
    "    'filter_price_max': mean_agg,\n",
    "    'filter_room_types': set_agg,\n",
    "    'filter_neighborhoods': set_agg\n",
    "}\n",
    "\n",
    "# Aggregate searches data by user ID\n",
    "grouped_searches = searches_data.groupby('id_user').agg(aggregation_rules)\n",
    "grouped_searches.reset_index(inplace=True)\n",
    "\n",
    "# Assume that contacts data has a column named 'id_guest' which is the user ID\n",
    "# For simplicity, let's consider you want to add a few columns from contacts data, such as 'n_messages' and 'ts_booking_at'\n",
    "# First, aggregate these columns as needed (e.g., sum of messages, last booking date)\n",
    "contacts_aggregation = {\n",
    "    'n_messages': 'sum',\n",
    "    'ts_booking_at': 'max'  # You might want the most recent booking date\n",
    "}\n",
    "\n",
    "grouped_contacts = contacts_data.groupby('id_guest').agg(contacts_aggregation)\n",
    "grouped_contacts.reset_index(inplace=True)\n",
    "\n",
    "# Merge the two dataframes on user ID, where 'id_user' in searches matches 'id_guest' in contacts\n",
    "final_data = pd.merge(grouped_searches, grouped_contacts, left_on='id_user', right_on='id_guest', how='left')\n",
    "\n",
    "# Optionally drop the redundant 'id_guest' column if it's the same as 'id_user'\n",
    "final_data.drop(columns='id_guest', inplace=True)\n",
    "\n",
    "# Save the merged data to a new CSV file\n",
    "final_data.to_csv('merged_aggregated_data.csv', index=False)\n",
    "\n",
    "print(final_data.head())\n"
   ]
  }
 ],
 "metadata": {
  "kernelspec": {
   "display_name": "GreanTeam",
   "language": "python",
   "name": "python3"
  },
  "language_info": {
   "name": "python",
   "version": "3.12.2"
  }
 },
 "nbformat": 4,
 "nbformat_minor": 2
}
